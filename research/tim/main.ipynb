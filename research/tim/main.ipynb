{
 "cells": [
  {
   "cell_type": "code",
   "execution_count": 2,
   "id": "be241f4d-9883-4df1-8bd2-bd93f7d0adca",
   "metadata": {
    "scrolled": true
   },
   "outputs": [
    {
     "name": "stdout",
     "output_type": "stream",
     "text": [
      "Defaulting to user installation because normal site-packages is not writeable\n",
      "Requirement already satisfied: together in /home/timofey/.local/lib/python3.13/site-packages (1.3.13)\n",
      "Requirement already satisfied: python-dotenv in /home/timofey/.local/lib/python3.13/site-packages (1.0.1)\n",
      "Requirement already satisfied: aiohttp<4.0.0,>=3.9.3 in /home/timofey/.local/lib/python3.13/site-packages (from together) (3.11.11)\n",
      "Requirement already satisfied: click<9.0.0,>=8.1.7 in /usr/lib/python3.13/site-packages (from together) (8.1.7)\n",
      "Requirement already satisfied: eval-type-backport<0.3.0,>=0.1.3 in /home/timofey/.local/lib/python3.13/site-packages (from together) (0.2.2)\n",
      "Requirement already satisfied: filelock<4.0.0,>=3.13.1 in /usr/lib/python3.13/site-packages (from together) (3.15.4)\n",
      "Requirement already satisfied: numpy>=1.26.0 in /home/timofey/.local/lib/python3.13/site-packages (from together) (2.2.2)\n",
      "Requirement already satisfied: pillow<11.0.0,>=10.3.0 in /home/timofey/.local/lib/python3.13/site-packages (from together) (10.4.0)\n",
      "Requirement already satisfied: pyarrow>=10.0.1 in /home/timofey/.local/lib/python3.13/site-packages (from together) (19.0.0)\n",
      "Requirement already satisfied: pydantic<3.0.0,>=2.6.3 in /home/timofey/.local/lib/python3.13/site-packages (from together) (2.10.6)\n",
      "Requirement already satisfied: requests<3.0.0,>=2.31.0 in /usr/lib/python3.13/site-packages (from together) (2.32.3)\n",
      "Requirement already satisfied: rich<14.0.0,>=13.8.1 in /home/timofey/.local/lib/python3.13/site-packages (from together) (13.9.4)\n",
      "Requirement already satisfied: tabulate<0.10.0,>=0.9.0 in /home/timofey/.local/lib/python3.13/site-packages (from together) (0.9.0)\n",
      "Requirement already satisfied: tqdm<5.0.0,>=4.66.2 in /usr/lib/python3.13/site-packages (from together) (4.67.1)\n",
      "Requirement already satisfied: typer<0.16,>=0.9 in /home/timofey/.local/lib/python3.13/site-packages (from together) (0.15.1)\n",
      "Requirement already satisfied: aiohappyeyeballs>=2.3.0 in /home/timofey/.local/lib/python3.13/site-packages (from aiohttp<4.0.0,>=3.9.3->together) (2.4.4)\n",
      "Requirement already satisfied: aiosignal>=1.1.2 in /home/timofey/.local/lib/python3.13/site-packages (from aiohttp<4.0.0,>=3.9.3->together) (1.3.2)\n",
      "Requirement already satisfied: attrs>=17.3.0 in /home/timofey/.local/lib/python3.13/site-packages (from aiohttp<4.0.0,>=3.9.3->together) (25.1.0)\n",
      "Requirement already satisfied: frozenlist>=1.1.1 in /home/timofey/.local/lib/python3.13/site-packages (from aiohttp<4.0.0,>=3.9.3->together) (1.5.0)\n",
      "Requirement already satisfied: multidict<7.0,>=4.5 in /home/timofey/.local/lib/python3.13/site-packages (from aiohttp<4.0.0,>=3.9.3->together) (6.1.0)\n",
      "Requirement already satisfied: propcache>=0.2.0 in /home/timofey/.local/lib/python3.13/site-packages (from aiohttp<4.0.0,>=3.9.3->together) (0.2.1)\n",
      "Requirement already satisfied: yarl<2.0,>=1.17.0 in /home/timofey/.local/lib/python3.13/site-packages (from aiohttp<4.0.0,>=3.9.3->together) (1.18.3)\n",
      "Requirement already satisfied: annotated-types>=0.6.0 in /home/timofey/.local/lib/python3.13/site-packages (from pydantic<3.0.0,>=2.6.3->together) (0.7.0)\n",
      "Requirement already satisfied: pydantic-core==2.27.2 in /home/timofey/.local/lib/python3.13/site-packages (from pydantic<3.0.0,>=2.6.3->together) (2.27.2)\n",
      "Requirement already satisfied: typing-extensions>=4.12.2 in /home/timofey/.local/lib/python3.13/site-packages (from pydantic<3.0.0,>=2.6.3->together) (4.12.2)\n",
      "Requirement already satisfied: charset-normalizer<4,>=2 in /usr/lib/python3.13/site-packages (from requests<3.0.0,>=2.31.0->together) (3.3.2)\n",
      "Requirement already satisfied: idna<4,>=2.5 in /usr/lib/python3.13/site-packages (from requests<3.0.0,>=2.31.0->together) (3.7)\n",
      "Requirement already satisfied: urllib3<3,>=1.21.1 in /usr/lib/python3.13/site-packages (from requests<3.0.0,>=2.31.0->together) (1.26.20)\n",
      "Requirement already satisfied: markdown-it-py>=2.2.0 in /home/timofey/.local/lib/python3.13/site-packages (from rich<14.0.0,>=13.8.1->together) (3.0.0)\n",
      "Requirement already satisfied: pygments<3.0.0,>=2.13.0 in /home/timofey/.local/lib/python3.13/site-packages (from rich<14.0.0,>=13.8.1->together) (2.19.1)\n",
      "Requirement already satisfied: shellingham>=1.3.0 in /home/timofey/.local/lib/python3.13/site-packages (from typer<0.16,>=0.9->together) (1.5.4)\n",
      "Requirement already satisfied: mdurl~=0.1 in /home/timofey/.local/lib/python3.13/site-packages (from markdown-it-py>=2.2.0->rich<14.0.0,>=13.8.1->together) (0.1.2)\n"
     ]
    }
   ],
   "source": [
    "!pip install together python-dotenv"
   ]
  },
  {
   "cell_type": "code",
   "execution_count": 3,
   "id": "395505e1",
   "metadata": {},
   "outputs": [],
   "source": [
    "from together import Together"
   ]
  },
  {
   "cell_type": "code",
   "execution_count": 4,
   "id": "1924b283",
   "metadata": {
    "lines_to_next_cell": 1
   },
   "outputs": [
    {
     "data": {
      "text/plain": [
       "True"
      ]
     },
     "execution_count": 4,
     "metadata": {},
     "output_type": "execute_result"
    }
   ],
   "source": [
    "from dotenv import load_dotenv\n",
    "load_dotenv()"
   ]
  },
  {
   "cell_type": "code",
   "execution_count": null,
   "id": "54efcbe1",
   "metadata": {
    "lines_to_next_cell": 1
   },
   "outputs": [],
   "source": [
    "class Agent:\n",
    "    def __init__(self, client, instructions, model_name=\"meta-llama/Llama-3.3-70B-Instruct-Turbo-Free\"):\n",
    "        self.client = client\n",
    "        self.instructions = instructions\n",
    "        self.model_name = model_name\n",
    "        self.messages = []\n",
    "\n",
    "    def initial_message(self):\n",
    "        return self.chat(self.instructions) \n",
    "\n",
    "    def chat(self, message):\n",
    "        self.messages.append({\"role\": \"user\", \"content\": message})\n",
    "        response = self.client.chat.completions.create(\n",
    "            model=self.model_name,\n",
    "            messages=self.messages\n",
    "        ).choices[0].message.content\n",
    "        self.messages.append({\"role\": \"assistant\", \"content\": response})\n",
    "        return response"
   ]
  },
  {
   "cell_type": "code",
   "execution_count": null,
   "id": "5145a1ca",
   "metadata": {
    "lines_to_next_cell": 1
   },
   "outputs": [],
   "source": [
    "class UserSim(Agent):\n",
    "    def __init__(self, client, instructions, talking_to, model_name=\"meta-llama/Llama-3.3-70B-Instruct-Turbo-Free\"):\n",
    "        self.client = client\n",
    "        self.instructions = instructions + \"\\n\\n[The next message I send will be from \\\"{}\\\", that will be the start of your conversation]\".format(talking_to)\n",
    "        self.model_name = model_name\n",
    "        self.messages = []\n",
    "\n",
    "    def initialize_chat(self):\n",
    "        self.chat(self.instructions)\n",
    "\n",
    "    def initial_message(self):\n",
    "        raise NotImplementedError"
   ]
  },
  {
   "cell_type": "markdown",
   "id": "1263a511",
   "metadata": {},
   "source": [
    "initialization"
   ]
  },
  {
   "cell_type": "code",
   "execution_count": null,
   "id": "3bbc29b4",
   "metadata": {},
   "outputs": [],
   "source": [
    "client = Together()"
   ]
  },
  {
   "cell_type": "code",
   "execution_count": null,
   "id": "e64441ba",
   "metadata": {},
   "outputs": [],
   "source": [
    "usersim = UserSim(\n",
    "    client,\n",
    "    instructions=\"Act like a customer at a car dealership talking to the salesman. You are looking to buy a car. Keep messages quite short.\",\n",
    "    talking_to=\"Car Salesman\"\n",
    ")"
   ]
  },
  {
   "cell_type": "code",
   "execution_count": null,
   "id": "e3622b61",
   "metadata": {},
   "outputs": [],
   "source": [
    "agent = Agent(\n",
    "    client,\n",
    "    instructions=\"Act like a car salesman talking to a customer. Keep messages quite short.\"\n",
    ")"
   ]
  },
  {
   "cell_type": "markdown",
   "id": "d68dc996",
   "metadata": {},
   "source": [
    "chat loop"
   ]
  },
  {
   "cell_type": "code",
   "execution_count": null,
   "id": "4ed80b96",
   "metadata": {},
   "outputs": [],
   "source": [
    "usersim.initialize_chat()\n",
    "agent_message = agent.initial_message()\n",
    "print(\"AGENT: \" + agent_message + \"\\n\")\n",
    "while True:\n",
    "    user_message = usersim.chat(agent_message)\n",
    "    print(\"*USER: \" + user_message + \"\\n\")\n",
    "    agent_message = agent.chat(user_message)\n",
    "    print(\"AGENT: \" + agent_message + \"\\n\")"
   ]
  }
 ],
 "metadata": {
  "jupytext": {
   "cell_metadata_filter": "-all",
   "main_language": "python",
   "notebook_metadata_filter": "-all"
  },
  "kernelspec": {
   "display_name": "Python 3 (ipykernel)",
   "language": "python",
   "name": "python3"
  },
  "language_info": {
   "codemirror_mode": {
    "name": "ipython",
    "version": 3
   },
   "file_extension": ".py",
   "mimetype": "text/x-python",
   "name": "python",
   "nbconvert_exporter": "python",
   "pygments_lexer": "ipython3",
   "version": "3.13.1"
  }
 },
 "nbformat": 4,
 "nbformat_minor": 5
}
