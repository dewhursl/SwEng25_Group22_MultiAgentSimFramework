{
 "cells": [
  {
   "cell_type": "code",
   "execution_count": 41,
   "metadata": {},
   "outputs": [
    {
     "name": "stdout",
     "output_type": "stream",
     "text": [
      "Interrogation begins.\n",
      "\n",
      "\n",
      "Suspect: Can you explain why you arrested me?\n",
      "Detective: We have evidence linking you to the scene of the crime. A witness placed you at the location around the time of the incident, and further investigation revealed inconsistencies in your alibi. We'd like to ask you some questions about your whereabouts during that time.\n",
      "Suspect: I don't know what you're talking about. I was just out for a walk when you found me.\n",
      "Detective: Can you look me in the eye and tell me the truth? What do you know about the robbery on 5th and Main?\n",
      "Suspect: I don't know what you're talking about. Can I get a lawyer present?\n",
      "Detective: Can you tell me where you were on the night of January 10th?\n",
      "Suspect: *I remain silent*\n",
      "Detective: So far, we haven't had a chance to discuss the case directly. Can I start by asking your name and where you were on the night of January 10th?\n",
      "Suspect: I don't know what you're talking about.\n",
      "Detective: Can you look me in the eye and tell me that you didn't break into the Johnson's house on the night of January 10th?\n",
      "Suspect: I don't know what you're talking about.\n"
     ]
    }
   ],
   "source": [
    "import requests\n",
    "import json\n",
    "\n",
    "url = \"http://localhost:11434/api/chat\"\n",
    "\n",
    "def get_model_response(payload):\n",
    "    response = requests.post(url, json=payload, stream=True) \n",
    "    if response.status_code == 200:\n",
    "        for line in response.iter_lines(decode_unicode=True):\n",
    "            if line:  \n",
    "                try:\n",
    "                    json_data = json.loads(line)\n",
    "                    if \"message\" in json_data and \"content\" in json_data[\"message\"]:\n",
    "                        print(json_data[\"message\"][\"content\"], end=\"\")\n",
    "                except json.JSONDecodeError:\n",
    "                    print(f\"\\nFailed to parse line: {line}\")\n",
    "        print() \n",
    "    else:\n",
    "        print(f\"Error: {response.status_code}\")\n",
    "        print(response.text)\n",
    "\n",
    "def detective(suspect_input):\n",
    "    payload = {\n",
    "        \"model\": \"llama3.2\", \n",
    "        \"messages\": [\n",
    "            {\"role\": \"system\", \"content\": \"You are a detective interrogating a suspect about a crime. Dont explain what you're doing, just say response.\"},\n",
    "            {\"role\": \"user\", \"content\": suspect_input},\n",
    "        ]\n",
    "    }\n",
    "    print(\"Detective: \", end=\"\")\n",
    "    return get_model_response(payload)\n",
    "\n",
    "def suspect(detective_input):\n",
    "    payload = {\n",
    "        \"model\": \"llama3.2\", \n",
    "        \"messages\": [\n",
    "            {\"role\": \"system\", \"content\": \"You are a suspect being interrogated about a crime. Dont explain what you're doing, just say response.\"},\n",
    "            {\"role\": \"user\", \"content\": detective_input},\n",
    "        ]\n",
    "    }\n",
    "    print(\"Suspect: \", end=\"\")\n",
    "    return get_model_response(payload)\n",
    "\n",
    "def interrogation():\n",
    "    \"\"\"Simulates interrogation between a detective and a suspect.\"\"\"\n",
    "    print(\"Interrogation begins.\\n\")\n",
    "    suspect_says = \"Can you explain why you arrested me?\"\n",
    "    print(f\"\\nSuspect: {suspect_says}\") \n",
    "    for _ in range(5): \n",
    "        detective_says = detective(suspect_says)\n",
    "        suspect_says = suspect(detective_says)\n",
    "interrogation()\n",
    "\n"
   ]
  }
 ],
 "metadata": {
  "kernelspec": {
   "display_name": "llm-agent-prototypes",
   "language": "python",
   "name": "python3"
  },
  "language_info": {
   "codemirror_mode": {
    "name": "ipython",
    "version": 3
   },
   "file_extension": ".py",
   "mimetype": "text/x-python",
   "name": "python",
   "nbconvert_exporter": "python",
   "pygments_lexer": "ipython3",
   "version": "3.13.1"
  }
 },
 "nbformat": 4,
 "nbformat_minor": 2
}
